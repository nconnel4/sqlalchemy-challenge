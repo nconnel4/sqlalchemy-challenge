{
 "cells": [
  {
   "cell_type": "code",
   "execution_count": 92,
   "metadata": {
    "collapsed": true
   },
   "outputs": [],
   "source": [
    "# %matplotlib inline\n",
    "from matplotlib import style\n",
    "style.use('fivethirtyeight')\n",
    "import matplotlib.pyplot as plt\n",
    "import matplotlib.dates as md"
   ]
  },
  {
   "cell_type": "code",
   "execution_count": 77,
   "outputs": [],
   "source": [
    "# import libraries\n",
    "import numpy as np\n",
    "import pandas as pd\n",
    "import datetime as dt"
   ],
   "metadata": {
    "collapsed": false,
    "pycharm": {
     "name": "#%%\n"
    }
   }
  },
  {
   "cell_type": "markdown",
   "source": [
    "# Reflect Tables into SQLAlchemy ORM"
   ],
   "metadata": {
    "collapsed": false,
    "pycharm": {
     "name": "#%% md\n"
    }
   }
  },
  {
   "cell_type": "code",
   "execution_count": 78,
   "outputs": [],
   "source": [
    "# import sqlalchemy\n",
    "import sqlalchemy\n",
    "from sqlalchemy.ext.automap import automap_base\n",
    "from sqlalchemy.orm import Session\n",
    "from sqlalchemy import create_engine, func"
   ],
   "metadata": {
    "collapsed": false,
    "pycharm": {
     "name": "#%%\n"
    }
   }
  },
  {
   "cell_type": "code",
   "execution_count": 79,
   "outputs": [],
   "source": [
    "# connect to datasource\n",
    "engine = create_engine('sqlite:///Resource/hawaii.sqlite')"
   ],
   "metadata": {
    "collapsed": false,
    "pycharm": {
     "name": "#%%\n"
    }
   }
  },
  {
   "cell_type": "code",
   "execution_count": 80,
   "outputs": [],
   "source": [
    "Base = automap_base()"
   ],
   "metadata": {
    "collapsed": false,
    "pycharm": {
     "name": "#%%\n"
    }
   }
  },
  {
   "cell_type": "code",
   "execution_count": 81,
   "outputs": [],
   "source": [
    "# reflect database into model\n",
    "Base.prepare(engine, reflect=True)\n",
    "\n",
    "Station = Base.classes.station\n",
    "Measurement = Base.classes.measurement"
   ],
   "metadata": {
    "collapsed": false,
    "pycharm": {
     "name": "#%%\n"
    }
   }
  },
  {
   "cell_type": "code",
   "execution_count": 82,
   "outputs": [],
   "source": [
    "session = Session(engine)"
   ],
   "metadata": {
    "collapsed": false,
    "pycharm": {
     "name": "#%%\n"
    }
   }
  },
  {
   "cell_type": "code",
   "execution_count": 145,
   "outputs": [
    {
     "data": {
      "text/plain": "            precipitation\ndate                     \n2016-08-23           0.00\n2016-08-24           0.08\n2016-08-25           0.08\n2016-08-26           0.00\n2016-08-27           0.00",
      "text/html": "<div>\n<style scoped>\n    .dataframe tbody tr th:only-of-type {\n        vertical-align: middle;\n    }\n\n    .dataframe tbody tr th {\n        vertical-align: top;\n    }\n\n    .dataframe thead th {\n        text-align: right;\n    }\n</style>\n<table border=\"1\" class=\"dataframe\">\n  <thead>\n    <tr style=\"text-align: right;\">\n      <th></th>\n      <th>precipitation</th>\n    </tr>\n    <tr>\n      <th>date</th>\n      <th></th>\n    </tr>\n  </thead>\n  <tbody>\n    <tr>\n      <th>2016-08-23</th>\n      <td>0.00</td>\n    </tr>\n    <tr>\n      <th>2016-08-24</th>\n      <td>0.08</td>\n    </tr>\n    <tr>\n      <th>2016-08-25</th>\n      <td>0.08</td>\n    </tr>\n    <tr>\n      <th>2016-08-26</th>\n      <td>0.00</td>\n    </tr>\n    <tr>\n      <th>2016-08-27</th>\n      <td>0.00</td>\n    </tr>\n  </tbody>\n</table>\n</div>"
     },
     "execution_count": 145,
     "metadata": {},
     "output_type": "execute_result"
    }
   ],
   "source": [
    "# get the max date for the precipitation measurement\n",
    "max_date = session.query(func.max(Measurement.date)).scalar()\n",
    "\n",
    "# calculate the date 12 months before the last date\n",
    "query_start_date = dt.datetime.fromisoformat(max_date) - dt.timedelta(days=366)\n",
    "\n",
    "# write query results to dataframe\n",
    "precip_df = pd.DataFrame(session.query(Measurement.prcp, Measurement.date).filter(Measurement.date >= query_start_date).all())\n",
    "precip_df.set_index('date', inplace=True)\n",
    "precip_df.sort_values('date')\n",
    "precip_df.rename(columns={'prcp': 'precipitation'}, inplace=True)\n",
    "precip_df.head()"
   ],
   "metadata": {
    "collapsed": false,
    "pycharm": {
     "name": "#%%\n"
    }
   }
  },
  {
   "cell_type": "code",
   "execution_count": 146,
   "outputs": [
    {
     "data": {
      "text/plain": "<Figure size 432x288 with 1 Axes>",
      "image/png": "[encoded data removed]"
     },
     "metadata": {},
     "output_type": "display_data"
    }
   ],
   "source": [
    "fig = plt.bar(precip_df.index, precip_df['precipitation'], width = 5)\n",
    "plt.ylabel('Inches')\n",
    "plt.xlabel('Date')\n",
    "plt.legend(['precipitation'])\n",
    "plt.xticks(np.arange(0, 365, 50), rotation='90')\n",
    "plt.show()"
   ],
   "metadata": {
    "collapsed": false,
    "pycharm": {
     "name": "#%% Plot precipitation data frame\n"
    }
   }
  },
  {
   "cell_type": "code",
   "execution_count": 147,
   "outputs": [
    {
     "data": {
      "text/plain": "       precipitation\ncount    2021.000000\nmean        0.177279\nstd         0.461190\nmin         0.000000\n25%         0.000000\n50%         0.020000\n75%         0.130000\nmax         6.700000",
      "text/html": "<div>\n<style scoped>\n    .dataframe tbody tr th:only-of-type {\n        vertical-align: middle;\n    }\n\n    .dataframe tbody tr th {\n        vertical-align: top;\n    }\n\n    .dataframe thead th {\n        text-align: right;\n    }\n</style>\n<table border=\"1\" class=\"dataframe\">\n  <thead>\n    <tr style=\"text-align: right;\">\n      <th></th>\n      <th>precipitation</th>\n    </tr>\n  </thead>\n  <tbody>\n    <tr>\n      <th>count</th>\n      <td>2021.000000</td>\n    </tr>\n    <tr>\n      <th>mean</th>\n      <td>0.177279</td>\n    </tr>\n    <tr>\n      <th>std</th>\n      <td>0.461190</td>\n    </tr>\n    <tr>\n      <th>min</th>\n      <td>0.000000</td>\n    </tr>\n    <tr>\n      <th>25%</th>\n      <td>0.000000</td>\n    </tr>\n    <tr>\n      <th>50%</th>\n      <td>0.020000</td>\n    </tr>\n    <tr>\n      <th>75%</th>\n      <td>0.130000</td>\n    </tr>\n    <tr>\n      <th>max</th>\n      <td>6.700000</td>\n    </tr>\n  </tbody>\n</table>\n</div>"
     },
     "execution_count": 147,
     "metadata": {},
     "output_type": "execute_result"
    }
   ],
   "source": [
    "precip_df.describe()"
   ],
   "metadata": {
    "collapsed": false,
    "pycharm": {
     "name": "#%% Summary Statistics\n"
    }
   }
  },
  {
   "cell_type": "markdown",
   "source": [
    "## Station Analysis"
   ],
   "metadata": {
    "collapsed": false,
    "pycharm": {
     "name": "#%% md\n"
    }
   }
  },
  {
   "cell_type": "code",
   "execution_count": 161,
   "outputs": [
    {
     "data": {
      "text/plain": "       station                                    name  obs_count\n0  USC00519281                     WAIHEE 837.5, HI US       2772\n1  USC00519397                    WAIKIKI 717.2, HI US       2724\n2  USC00513117                    KANEOHE 838.1, HI US       2709\n3  USC00519523      WAIMANALO EXPERIMENTAL FARM, HI US       2669\n4  USC00516128            MANOA LYON ARBO 785.2, HI US       2612\n5  USC00514830  KUALOA RANCH HEADQUARTERS 886.9, HI US       2202\n6  USC00511918       HONOLULU OBSERVATORY 702.2, HI US       1979\n7  USC00517948                       PEARL CITY, HI US       1372\n8  USC00518838              UPPER WAHIAWA 874.3, HI US        511",
      "text/html": "<div>\n<style scoped>\n    .dataframe tbody tr th:only-of-type {\n        vertical-align: middle;\n    }\n\n    .dataframe tbody tr th {\n        vertical-align: top;\n    }\n\n    .dataframe thead th {\n        text-align: right;\n    }\n</style>\n<table border=\"1\" class=\"dataframe\">\n  <thead>\n    <tr style=\"text-align: right;\">\n      <th></th>\n      <th>station</th>\n      <th>name</th>\n      <th>obs_count</th>\n    </tr>\n  </thead>\n  <tbody>\n    <tr>\n      <th>0</th>\n      <td>USC00519281</td>\n      <td>WAIHEE 837.5, HI US</td>\n      <td>2772</td>\n    </tr>\n    <tr>\n      <th>1</th>\n      <td>USC00519397</td>\n      <td>WAIKIKI 717.2, HI US</td>\n      <td>2724</td>\n    </tr>\n    <tr>\n      <th>2</th>\n      <td>USC00513117</td>\n      <td>KANEOHE 838.1, HI US</td>\n      <td>2709</td>\n    </tr>\n    <tr>\n      <th>3</th>\n      <td>USC00519523</td>\n      <td>WAIMANALO EXPERIMENTAL FARM, HI US</td>\n      <td>2669</td>\n    </tr>\n    <tr>\n      <th>4</th>\n      <td>USC00516128</td>\n      <td>MANOA LYON ARBO 785.2, HI US</td>\n      <td>2612</td>\n    </tr>\n    <tr>\n      <th>5</th>\n      <td>USC00514830</td>\n      <td>KUALOA RANCH HEADQUARTERS 886.9, HI US</td>\n      <td>2202</td>\n    </tr>\n    <tr>\n      <th>6</th>\n      <td>USC00511918</td>\n      <td>HONOLULU OBSERVATORY 702.2, HI US</td>\n      <td>1979</td>\n    </tr>\n    <tr>\n      <th>7</th>\n      <td>USC00517948</td>\n      <td>PEARL CITY, HI US</td>\n      <td>1372</td>\n    </tr>\n    <tr>\n      <th>8</th>\n      <td>USC00518838</td>\n      <td>UPPER WAHIAWA 874.3, HI US</td>\n      <td>511</td>\n    </tr>\n  </tbody>\n</table>\n</div>"
     },
     "execution_count": 161,
     "metadata": {},
     "output_type": "execute_result"
    }
   ],
   "source": [
    "num_stations = session.query(func.count(Station.station)).scalar()\n",
    "\n",
    "obeservations_df = pd.DataFrame(session.query(Station.station, Station.name, func.count(Measurement.tobs).label('obs_count')).\\\n",
    "                                join(Station, Measurement.station==Station.station).\\\n",
    "                                order_by(func.count(Measurement.tobs).desc()).\\\n",
    "                                group_by(Measurement.station).all())\n",
    "obeservations_df"
   ],
   "metadata": {
    "collapsed": false,
    "pycharm": {
     "name": "#%% Find the most active station\n"
    }
   }
  },
  {
   "cell_type": "code",
   "execution_count": null,
   "outputs": [],
   "source": [],
   "metadata": {
    "collapsed": false,
    "pycharm": {
     "name": "#%%"
    }
   }
  }
 ],
 "metadata": {
  "kernelspec": {
   "display_name": "Python 3",
   "language": "python",
   "name": "python3"
  },
  "language_info": {
   "codemirror_mode": {
    "name": "ipython",
    "version": 2
   },
   "file_extension": ".py",
   "mimetype": "text/x-python",
   "name": "python",
   "nbconvert_exporter": "python",
   "pygments_lexer": "ipython2",
   "version": "2.7.6"
  }
 },
 "nbformat": 4,
 "nbformat_minor": 0
}